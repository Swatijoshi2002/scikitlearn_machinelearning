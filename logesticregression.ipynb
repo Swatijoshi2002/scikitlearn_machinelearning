{
  "nbformat": 4,
  "nbformat_minor": 0,
  "metadata": {
    "colab": {
      "name": "logesticregression.ipynb",
      "provenance": [],
      "authorship_tag": "ABX9TyOHzF+wPE9B1+GsFkFBSBxk",
      "include_colab_link": true
    },
    "kernelspec": {
      "name": "python3",
      "display_name": "Python 3"
    },
    "language_info": {
      "name": "python"
    }
  },
  "cells": [
    {
      "cell_type": "markdown",
      "metadata": {
        "id": "view-in-github",
        "colab_type": "text"
      },
      "source": [
        "<a href=\"https://colab.research.google.com/github/Swatijoshi2002/scikitlearn_machinelearning/blob/main/logesticregression.ipynb\" target=\"_parent\"><img src=\"https://colab.research.google.com/assets/colab-badge.svg\" alt=\"Open In Colab\"/></a>"
      ]
    },
    {
      "cell_type": "code",
      "execution_count": null,
      "metadata": {
        "id": "-ctI6yGQgHaT"
      },
      "outputs": [],
      "source": [
        "#logistic  regression =>It is used in statistical software to understand the relationship between the dependent variable \n",
        "#and one or more independent variables by estimating probabilities using a logistic regression equation\n",
        "\"\"\"Linear Regression is used to handle regression problems whereas Logistic regression is\n",
        " used to handle the classification problems.\n",
        " Linear regression provides a continuous output but Logistic regression provides discreet output.\"\"\"\n",
        " \"\"\"image add=https://editor.analyticsvidhya.com/uploads/71562linear_vs_logistic_regression_edxw03.png\"\"\"\n",
        " \"\"\"image add=https://miro.medium.com/max/700/1*dm6ZaX5fuSmuVvM4Ds-vcg.jpeg\"\"\"\"\n",
        " #logistic regression estimates the values in range of 0-1 and is given by f(x)=1/(1+e^-x)"
      ]
    }
  ]
}