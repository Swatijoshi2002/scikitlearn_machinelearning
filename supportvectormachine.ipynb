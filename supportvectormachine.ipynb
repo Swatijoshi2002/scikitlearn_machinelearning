{
  "nbformat": 4,
  "nbformat_minor": 0,
  "metadata": {
    "colab": {
      "name": "supportvectormachine.ipynb",
      "provenance": [],
      "authorship_tag": "ABX9TyMyMDuB1ddezNx2iqgURYO+",
      "include_colab_link": true
    },
    "kernelspec": {
      "name": "python3",
      "display_name": "Python 3"
    },
    "language_info": {
      "name": "python"
    }
  },
  "cells": [
    {
      "cell_type": "markdown",
      "metadata": {
        "id": "view-in-github",
        "colab_type": "text"
      },
      "source": [
        "<a href=\"https://colab.research.google.com/github/Swatijoshi2002/scikitlearn_machinelearning/blob/main/supportvectormachine.ipynb\" target=\"_parent\"><img src=\"https://colab.research.google.com/assets/colab-badge.svg\" alt=\"Open In Colab\"/></a>"
      ]
    },
    {
      "cell_type": "code",
      "execution_count": null,
      "metadata": {
        "id": "dk_I1B7dnUPb"
      },
      "outputs": [],
      "source": [
        "#svm =support vector machine\n",
        "#works in effective high dimensional spaces(data with many features(attributes))\n",
        "#many kernals functions\n",
        "#vector machines can be used for classification as well as regression\n",
        "#it create a hyperplane(simple line) in in 2d space\n",
        "#in 3d space hyperlane will be 2d plane not asingle line\n",
        "#what support vector point does it find out the distance which are equal from hyper plane such that the margin drawn from those data points is greater\n",
        "\"\"\"kernel in machine learning =In machine learning, a kernel refers to a method that allows us to apply linear classifiers to nonlinear problems\n",
        " by mapping non-linear \n",
        "data into a higher-dimensional space without the need to visit or understand that higher-dimensional space.\"\"\""
      ]
    },
    {
      "cell_type": "code",
      "source": [
        "#in this iris data set\n",
        "\"\"\"1. sepal length in cm\n",
        "2. sepal width in cm\n",
        "3. petal length in cm\n",
        "4. petal width in cm\n",
        "\"\"\"\n",
        "#on the base of these three data set we need to pridict whether it is:-\n",
        "\"\"\"-- Iris Setosa\n",
        "-- Iris Versicolour\n",
        "-- Iris Virginica\n",
        "\"\"\""
      ],
      "metadata": {
        "id": "1ioZzLYXsCr4"
      },
      "execution_count": null,
      "outputs": []
    },
    {
      "cell_type": "code",
      "source": [
        "pip install -U scikit-learn"
      ],
      "metadata": {
        "colab": {
          "base_uri": "https://localhost:8080/"
        },
        "id": "W8b0m1mlvT0U",
        "outputId": "8e822525-19c9-4853-a02b-92e0dae27320"
      },
      "execution_count": null,
      "outputs": [
        {
          "output_type": "stream",
          "name": "stdout",
          "text": [
            "Requirement already satisfied: scikit-learn in /usr/local/lib/python3.7/dist-packages (1.0.2)\n",
            "Requirement already satisfied: joblib>=0.11 in /usr/local/lib/python3.7/dist-packages (from scikit-learn) (1.1.0)\n",
            "Requirement already satisfied: scipy>=1.1.0 in /usr/local/lib/python3.7/dist-packages (from scikit-learn) (1.4.1)\n",
            "Requirement already satisfied: numpy>=1.14.6 in /usr/local/lib/python3.7/dist-packages (from scikit-learn) (1.19.5)\n",
            "Requirement already satisfied: threadpoolctl>=2.0.0 in /usr/local/lib/python3.7/dist-packages (from scikit-learn) (3.0.0)\n"
          ]
        }
      ]
    },
    {
      "cell_type": "code",
      "source": [
        "from sklearn import datasets\n",
        "import numpy as np\n",
        "from sklearn.model_selection import train_test_split\n",
        "from sklearn import svm\n",
        "from sklearn.preprocessing import LabelEncoder\n",
        "from sklearn import metrics"
      ],
      "metadata": {
        "id": "ih_XgZQyvZlV"
      },
      "execution_count": null,
      "outputs": []
    },
    {
      "cell_type": "code",
      "source": [
        "iris=datasets.load_iris()\n",
        "x=iris.data\n",
        "y=iris.target\n",
        "#making array of targets\n",
        "classes=['Iris Setosa','Iris Versicolour','Iris Virginica']\n",
        "X_train,X_test,Y_train,Y_test=train_test_split(x,y,test_size=0.2)\n",
        "model=svm.SVC()\n",
        "model.fit(X_train,Y_train)\n",
        "print(model)\n",
        "predictions=model.predict(X_test)\n",
        "accuracy=metrics.accuracy_score(Y_test,predictions)\n",
        "print(\"pre\",predictions)\n",
        "print(\"acc\",accuracy)\n",
        "print(\"actual\",Y_test)\n",
        "for i in range(len(predictions)):\n",
        "  print(classes[predictions[i]])"
      ],
      "metadata": {
        "colab": {
          "base_uri": "https://localhost:8080/"
        },
        "id": "UC2oZmv6vhDD",
        "outputId": "ac69d224-2ccb-462e-cef9-426cafdb2a39"
      },
      "execution_count": null,
      "outputs": [
        {
          "output_type": "stream",
          "name": "stdout",
          "text": [
            "SVC()\n",
            "pre [0 0 1 2 2 0 2 0 0 1 0 2 1 1 1 0 1 1 2 0 2 0 1 1 2 0 0 0 1 1]\n",
            "acc 1.0\n",
            "actual [0 0 1 2 2 0 2 0 0 1 0 2 1 1 1 0 1 1 2 0 2 0 1 1 2 0 0 0 1 1]\n",
            "Iris Setosa\n",
            "Iris Setosa\n",
            "Iris Versicolour\n",
            "Iris Virginica\n",
            "Iris Virginica\n",
            "Iris Setosa\n",
            "Iris Virginica\n",
            "Iris Setosa\n",
            "Iris Setosa\n",
            "Iris Versicolour\n",
            "Iris Setosa\n",
            "Iris Virginica\n",
            "Iris Versicolour\n",
            "Iris Versicolour\n",
            "Iris Versicolour\n",
            "Iris Setosa\n",
            "Iris Versicolour\n",
            "Iris Versicolour\n",
            "Iris Virginica\n",
            "Iris Setosa\n",
            "Iris Virginica\n",
            "Iris Setosa\n",
            "Iris Versicolour\n",
            "Iris Versicolour\n",
            "Iris Virginica\n",
            "Iris Setosa\n",
            "Iris Setosa\n",
            "Iris Setosa\n",
            "Iris Versicolour\n",
            "Iris Versicolour\n"
          ]
        }
      ]
    }
  ]
}